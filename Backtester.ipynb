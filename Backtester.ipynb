{
 "cells": [
  {
   "cell_type": "markdown",
   "metadata": {},
   "source": [
    "Calculating momentum indicator"
   ]
  },
  {
   "cell_type": "markdown",
   "metadata": {},
   "source": [
    "Order Book Structure\n",
    "List where each position corresponds to a week, all of them are sequential, (starting from 0 like real cs majors lmao) where each position has object Orders that detail what trades took place, statistics related to this week"
   ]
  },
  {
   "cell_type": "code",
   "execution_count": null,
   "metadata": {},
   "outputs": [],
   "source": [
    "class WeekOrders:\n",
    "    def __init__(self):\n",
    "        self.tickers = [] # Tickers Traded this week\n",
    "        self.signal = [] # For associated ticker, long or short\n",
    "        self.entryPrice = [] # Price was associated with entering position on this ticker\n",
    "        self.exitPrice = [] # Price associated with exiting position on this ticker\n",
    "        self.indivReturns = [] # Returns based on entering and exiting position on ticker\n",
    "        self.totalReturns = -1 # Calculated upon exiting position\n",
    "        self.avgReturns = -1 # Calculated upon exiting position\n",
    "\n",
    "    def printStats(self):\n",
    "        print(\"Dummy\")\n",
    "\n",
    "orderBook = [] # To be filled with WeekOrders objects"
   ]
  },
  {
   "cell_type": "markdown",
   "metadata": {},
   "source": [
    "Close previous week's position"
   ]
  },
  {
   "cell_type": "code",
   "execution_count": null,
   "metadata": {},
   "outputs": [],
   "source": [
    "def closePosition(prevWeekOrders):\n",
    "    for x in range(len(prevWeekOrders.tickers)):\n",
    "        if prevWeekOrders.signal[x] == \"LONG\":\n",
    "            # close out position accordingly\n",
    "            continue\n",
    "        else: \n",
    "            # close out position accordingly\n",
    "            continue\n",
    "    return 0"
   ]
  },
  {
   "cell_type": "markdown",
   "metadata": {},
   "source": [
    "Calculate indicators for all tickers this week"
   ]
  },
  {
   "cell_type": "code",
   "execution_count": null,
   "metadata": {},
   "outputs": [],
   "source": [
    "def calculateIndicators():\n",
    "    # Needs to be a dictionary, go from ticker (key) to signals (value)\n",
    "    tickerIndicators = []\n",
    "    return tickerIndicators"
   ]
  },
  {
   "cell_type": "markdown",
   "metadata": {},
   "source": [
    "Update order book with a trade this week"
   ]
  },
  {
   "cell_type": "code",
   "execution_count": null,
   "metadata": {},
   "outputs": [],
   "source": [
    "def onTrade(indicator, tickerInfo, currentWeek, cash):\n",
    "    # orderBook.append(WeekOrders())\n",
    "    if indicator == \"Long\":\n",
    "        currentWeek.ticker.append(tickerInfo)\n",
    "    else:\n",
    "        currentWeek.ticker.append(tickerInfo)"
   ]
  },
  {
   "cell_type": "markdown",
   "metadata": {},
   "source": [
    "Define actual weekly trades"
   ]
  },
  {
   "cell_type": "code",
   "execution_count": null,
   "metadata": {},
   "outputs": [],
   "source": [
    "def weeklyTrade():\n",
    "    orderBook.append(WeekOrders())\n",
    "    currentWeek = orderBook[-1]\n",
    "    currentCapital = closePosition()\n",
    "    # Here, go through new ticker info from this week\n",
    "    tickerIndicators = calculateIndicators()\n",
    "    # for top 10%, call\n",
    "    # onTrade(long, tickerInfo, currentWeek, cash)\n",
    "    # for bottom 10%, call\n",
    "    # onTrade(short, tickerInfo, currentWeek, cash)\n",
    "    "
   ]
  },
  {
   "cell_type": "markdown",
   "metadata": {},
   "source": [
    "Calculating momentum indicator"
   ]
  },
  {
   "cell_type": "code",
   "execution_count": null,
   "metadata": {},
   "outputs": [],
   "source": [
    "def momentumIndicator():\n",
    "    print(\"mntm\")"
   ]
  },
  {
   "cell_type": "markdown",
   "metadata": {},
   "source": [
    "Calculating value indicator"
   ]
  },
  {
   "cell_type": "code",
   "execution_count": null,
   "metadata": {},
   "outputs": [],
   "source": [
    "def valueIndicator():\n",
    "    print(\"val\")"
   ]
  },
  {
   "cell_type": "markdown",
   "metadata": {},
   "source": []
  },
  {
   "cell_type": "code",
   "execution_count": null,
   "metadata": {},
   "outputs": [],
   "source": []
  }
 ],
 "metadata": {
  "language_info": {
   "name": "python"
  },
  "orig_nbformat": 4
 },
 "nbformat": 4,
 "nbformat_minor": 2
}
