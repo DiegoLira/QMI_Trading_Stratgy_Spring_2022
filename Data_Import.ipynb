{
 "cells": [
  {
   "cell_type": "markdown",
   "metadata": {},
   "source": [
    "Data Importing and Cleaning"
   ]
  },
  {
   "cell_type": "code",
   "execution_count": 7,
   "outputs": [],
   "source": [
    "import pandas as pd\n",
    "import yfinance as yf\n",
    "import datetime\n",
    "import time\n",
    "import requests"
   ],
   "metadata": {
    "collapsed": false,
    "pycharm": {
     "name": "#%%\n"
    }
   }
  },
  {
   "cell_type": "code",
   "execution_count": 30,
   "outputs": [],
   "source": [
    "'''Creating our Stock List of all Stocks in S&P 500'''\n",
    "\n",
    "site = pd.read_html('https://en.wikipedia.org/wiki/List_of_S%26P_500_companies')\n",
    "table = site[0]\n",
    "\n",
    "sp_data = table\n",
    "tickers = sp_data['Symbol'].values.tolist()"
   ],
   "metadata": {
    "collapsed": false,
    "pycharm": {
     "name": "#%%\n"
    }
   }
  },
  {
   "cell_type": "code",
   "execution_count": 48,
   "outputs": [
    {
     "name": "stdout",
     "output_type": "stream",
     "text": [
      "[*********************100%***********************]  504 of 504 completed\n",
      "\n",
      "17 Failed downloads:\n",
      "- OGN: Data doesn't exist for startDate = 1420092000, endDate = 1451628000\n",
      "- CDAY: Data doesn't exist for startDate = 1420092000, endDate = 1451628000\n",
      "- FOXA: Data doesn't exist for startDate = 1420092000, endDate = 1451628000\n",
      "- FOX: Data doesn't exist for startDate = 1420092000, endDate = 1451628000\n",
      "- UA: Data doesn't exist for startDate = 1420092000, endDate = 1451628000\n",
      "- MRNA: Data doesn't exist for startDate = 1420092000, endDate = 1451628000\n",
      "- HWM: No data found for this date range, symbol may be delisted\n",
      "- BRK.B: No data found, symbol may be delisted\n",
      "- CARR: Data doesn't exist for startDate = 1420092000, endDate = 1451628000\n",
      "- OTIS: Data doesn't exist for startDate = 1420092000, endDate = 1451628000\n",
      "- CTVA: Data doesn't exist for startDate = 1420092000, endDate = 1451628000\n",
      "- DOW: Data doesn't exist for startDate = 1420092000, endDate = 1451628000\n",
      "- IR: Data doesn't exist for startDate = 1420092000, endDate = 1451628000\n",
      "- BF.B: No data found for this date range, symbol may be delisted\n",
      "- FTV: Data doesn't exist for startDate = 1420092000, endDate = 1451628000\n",
      "- CEG: Data doesn't exist for startDate = 1420092000, endDate = 1451628000\n",
      "- LW: Data doesn't exist for startDate = 1420092000, endDate = 1451628000\n"
     ]
    }
   ],
   "source": [
    "'''Initial data table'''\n",
    "\n",
    "stock_data = yf.download(tickers, start=\"2015-01-01\", end=\"2016-01-01\")\n",
    "\n",
    "Adj_Close = stock_data['Adj Close'].T\n",
    "Close = stock_data['Close'].T\n",
    "Open = stock_data['Open'].T\n",
    "Volume = stock_data['Volume'].T\n",
    "Low = stock_data['Low'].T\n",
    "High = stock_data['High'].T"
   ],
   "metadata": {
    "collapsed": false,
    "pycharm": {
     "name": "#%%\n"
    }
   }
  }
 ],
 "metadata": {
  "language_info": {
   "name": "python"
  },
  "orig_nbformat": 4
 },
 "nbformat": 4,
 "nbformat_minor": 2
}